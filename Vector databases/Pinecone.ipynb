{
 "cells": [
  {
   "cell_type": "code",
   "execution_count": 1,
   "id": "235d0894-b548-4185-a77b-f33634c641e6",
   "metadata": {},
   "outputs": [
    {
     "name": "stdout",
     "output_type": "stream",
     "text": [
      "Collecting pinecone-client\n",
      "  Downloading pinecone_client-5.0.1-py3-none-any.whl.metadata (19 kB)\n",
      "Requirement already satisfied: certifi>=2019.11.17 in c:\\programdata\\miniconda3\\envs\\torch\\lib\\site-packages (from pinecone-client) (2024.7.4)\n",
      "Collecting pinecone-plugin-inference<2.0.0,>=1.0.3 (from pinecone-client)\n",
      "  Downloading pinecone_plugin_inference-1.0.3-py3-none-any.whl.metadata (2.2 kB)\n",
      "Collecting pinecone-plugin-interface<0.0.8,>=0.0.7 (from pinecone-client)\n",
      "  Downloading pinecone_plugin_interface-0.0.7-py3-none-any.whl.metadata (1.2 kB)\n",
      "Requirement already satisfied: tqdm>=4.64.1 in c:\\programdata\\miniconda3\\envs\\torch\\lib\\site-packages (from pinecone-client) (4.65.0)\n",
      "Requirement already satisfied: typing-extensions>=3.7.4 in c:\\programdata\\miniconda3\\envs\\torch\\lib\\site-packages (from pinecone-client) (4.12.2)\n",
      "Requirement already satisfied: urllib3>=1.26.0 in c:\\programdata\\miniconda3\\envs\\torch\\lib\\site-packages (from pinecone-client) (1.26.18)\n",
      "Requirement already satisfied: colorama in c:\\programdata\\miniconda3\\envs\\torch\\lib\\site-packages (from tqdm>=4.64.1->pinecone-client) (0.4.6)\n",
      "Downloading pinecone_client-5.0.1-py3-none-any.whl (244 kB)\n",
      "   ---------------------------------------- 0.0/244.8 kB ? eta -:--:--\n",
      "   - -------------------------------------- 10.2/244.8 kB ? eta -:--:--\n",
      "   ------ -------------------------------- 41.0/244.8 kB 653.6 kB/s eta 0:00:01\n",
      "   ------------------------------------ --- 225.3/244.8 kB 2.3 MB/s eta 0:00:01\n",
      "   ---------------------------------------- 244.8/244.8 kB 1.9 MB/s eta 0:00:00\n",
      "Downloading pinecone_plugin_inference-1.0.3-py3-none-any.whl (117 kB)\n",
      "   ---------------------------------------- 0.0/117.6 kB ? eta -:--:--\n",
      "   ---------------------------------------- 117.6/117.6 kB 3.4 MB/s eta 0:00:00\n",
      "Downloading pinecone_plugin_interface-0.0.7-py3-none-any.whl (6.2 kB)\n",
      "Installing collected packages: pinecone-plugin-interface, pinecone-plugin-inference, pinecone-client\n",
      "Successfully installed pinecone-client-5.0.1 pinecone-plugin-inference-1.0.3 pinecone-plugin-interface-0.0.7\n"
     ]
    }
   ],
   "source": [
    "!pip install pinecone-client"
   ]
  },
  {
   "cell_type": "markdown",
   "id": "04a35fc5-84cc-4e70-b5b7-06b28920c3c7",
   "metadata": {},
   "source": [
    "## Initializing Pinecone Database"
   ]
  },
  {
   "cell_type": "code",
   "execution_count": 8,
   "id": "4fff2d71-19eb-4284-9b53-10baca4bbe21",
   "metadata": {},
   "outputs": [],
   "source": [
    "import os\n",
    "from pinecone import Pinecone, PodSpec\n",
    "\n",
    "pc = Pinecone(api_key=\"565d2af4-e257-4da0-8da5-8901ac226286\")"
   ]
  },
  {
   "cell_type": "markdown",
   "id": "90bda4ab-9d4a-4635-99a9-0759c31227ac",
   "metadata": {},
   "source": [
    "### Creating an Index and Upserting"
   ]
  },
  {
   "cell_type": "code",
   "execution_count": 10,
   "id": "ad72426d-55be-48c5-a41a-113adc48f666",
   "metadata": {},
   "outputs": [],
   "source": [
    "if 'my_index' not in pc.list_indexes().names():\n",
    "    pc.create_index(\n",
    "        name=\"myfirstindex\", \n",
    "        dimension=8, \n",
    "        metric=\"euclidean\",\n",
    "        spec=ServerlessSpec(\n",
    "            cloud=\"aws\",\n",
    "            region=\"us-east-1\" )\n",
    "        )\n"
   ]
  },
  {
   "cell_type": "code",
   "execution_count": 12,
   "id": "82734479-7068-4e3d-a3a6-94c0cbbb8e17",
   "metadata": {},
   "outputs": [
    {
     "data": {
      "text/plain": [
       "{'upserted_count': 5}"
      ]
     },
     "execution_count": 12,
     "metadata": {},
     "output_type": "execute_result"
    }
   ],
   "source": [
    "index = pc.Index(\"myfirstindex\")\n",
    "\n",
    "index.upsert([\n",
    "    (\"A\", [0.1, 0.1, 0.1, 0.1, 0.1, 0.1, 0.1, 0.1]),\n",
    "    (\"B\", [0.2, 0.2, 0.2, 0.2, 0.2, 0.2, 0.2, 0.2]),\n",
    "    (\"C\", [0.3, 0.3, 0.3, 0.3, 0.3, 0.3, 0.3, 0.3]),\n",
    "    (\"D\", [0.4, 0.4, 0.4, 0.4, 0.4, 0.4, 0.4, 0.4]),\n",
    "    (\"E\", [0.5, 0.5, 0.5, 0.5, 0.5, 0.5, 0.5, 0.5])\n",
    "])\n"
   ]
  },
  {
   "cell_type": "code",
   "execution_count": 13,
   "id": "1d57a597-c540-4f5c-9343-7f0dd0059e4b",
   "metadata": {},
   "outputs": [
    {
     "data": {
      "text/plain": [
       "{'dimension': 8,\n",
       " 'index_fullness': 0.0,\n",
       " 'namespaces': {'': {'vector_count': 5}},\n",
       " 'total_vector_count': 5}"
      ]
     },
     "execution_count": 13,
     "metadata": {},
     "output_type": "execute_result"
    }
   ],
   "source": [
    "index.describe_index_stats()"
   ]
  },
  {
   "cell_type": "markdown",
   "id": "57836726-0537-4ff2-a2f8-daea9e47a665",
   "metadata": {},
   "source": [
    "### Query the Index and Get Similar Vectors in Pinecone"
   ]
  },
  {
   "cell_type": "code",
   "execution_count": 14,
   "id": "e6807663-1f04-4064-9777-0a4986966d08",
   "metadata": {},
   "outputs": [
    {
     "data": {
      "text/plain": [
       "{'matches': [{'id': 'C',\n",
       "              'score': 0.0,\n",
       "              'values': [0.3, 0.3, 0.3, 0.3, 0.3, 0.3, 0.3, 0.3]},\n",
       "             {'id': 'D',\n",
       "              'score': 0.0799999237,\n",
       "              'values': [0.4, 0.4, 0.4, 0.4, 0.4, 0.4, 0.4, 0.4]},\n",
       "             {'id': 'B',\n",
       "              'score': 0.0800000429,\n",
       "              'values': [0.2, 0.2, 0.2, 0.2, 0.2, 0.2, 0.2, 0.2]}],\n",
       " 'namespace': '',\n",
       " 'usage': {'read_units': 6}}"
      ]
     },
     "execution_count": 14,
     "metadata": {},
     "output_type": "execute_result"
    }
   ],
   "source": [
    "index.query(\n",
    "  vector=[0.3, 0.3, 0.3, 0.3, 0.3, 0.3, 0.3, 0.3],\n",
    "  top_k=3,\n",
    "  include_values=True\n",
    ")"
   ]
  },
  {
   "cell_type": "markdown",
   "id": "c764d815-8a15-4536-a4a8-4746088ecbe1",
   "metadata": {},
   "source": [
    "### Deleting an Index"
   ]
  },
  {
   "cell_type": "code",
   "execution_count": 16,
   "id": "03dc1526-b12f-4378-9368-c1b5dda6ad39",
   "metadata": {},
   "outputs": [],
   "source": [
    "pc.delete_index(\"myfirstindex\")"
   ]
  },
  {
   "cell_type": "code",
   "execution_count": null,
   "id": "c931278b-bb8c-4f3d-a40a-d05012cfae4b",
   "metadata": {},
   "outputs": [],
   "source": []
  }
 ],
 "metadata": {
  "kernelspec": {
   "display_name": "Python 3 (ipykernel)",
   "language": "python",
   "name": "python3"
  },
  "language_info": {
   "codemirror_mode": {
    "name": "ipython",
    "version": 3
   },
   "file_extension": ".py",
   "mimetype": "text/x-python",
   "name": "python",
   "nbconvert_exporter": "python",
   "pygments_lexer": "ipython3",
   "version": "3.10.13"
  }
 },
 "nbformat": 4,
 "nbformat_minor": 5
}
