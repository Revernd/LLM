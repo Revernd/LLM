{
 "cells": [
  {
   "cell_type": "markdown",
   "id": "b75bdcc7",
   "metadata": {},
   "source": [
    "1. Load up the 1K jeopardy dataset that has 1000 objects in total, keep at least the question, answer and round properties.\n",
    "2. How do you check for the number of objects stored in the database?\n",
    "3. Search for objects that are close to the concept of “spicy food recipes” and show 4 QnA\n",
    "4. Can you find “spicy food recipes” related questions that were used in Double Jeopardy rounds?\n",
    "\n",
    "\n",
    "### Q1: Load up the dataset,  keep at least the question, answer and round properties."
   ]
  },
  {
   "cell_type": "code",
   "execution_count": 1,
   "id": "07a62d15",
   "metadata": {},
   "outputs": [
    {
     "name": "stdout",
     "output_type": "stream",
     "text": [
      "<class 'list'> 1000\n",
      "{\n",
      "  \"Air Date\": \"2005-11-18\",\n",
      "  \"Round\": \"Jeopardy!\",\n",
      "  \"Value\": 200,\n",
      "  \"Category\": \"RHYME TIME\",\n",
      "  \"Question\": \"Any pigment on the wall so faded you can barely see it\",\n",
      "  \"Answer\": \"faint paint\"\n",
      "}\n"
     ]
    }
   ],
   "source": [
    "import requests\n",
    "import json\n",
    "\n",
    "# Download the data\n",
    "resp = requests.get('https://raw.githubusercontent.com/weaviate-tutorials/intro-workshop/main/data/jeopardy_1k.json')\n",
    "data = json.loads(resp.text)  # Load data\n",
    "\n",
    "# Parse the JSON and preview it\n",
    "print(type(data), len(data))\n",
    "print(json.dumps(data[1], indent=2))"
   ]
  },
  {
   "cell_type": "code",
   "execution_count": 7,
   "id": "1a611f7e",
   "metadata": {},
   "outputs": [],
   "source": [
    "import weaviate\n",
    "from weaviate import EmbeddedOptions\n",
    "import os\n",
    "\n",
    "client = weaviate.connect_to_weaviate_cloud(cluster_url='https://kadg1vjettw3hkvszkev3g.c0.us-east1.gcp.weaviate.cloud',  # Replace with your Weaviate Cloud URL\n",
    "                         auth_credentials=weaviate.auth.AuthApiKey(\n",
    "                        api_key = 'fFw62ouvsYZZMm3EfnAG9KXrQyno8lMu067i',),\n",
    ")"
   ]
  },
  {
   "cell_type": "code",
   "execution_count": 11,
   "id": "cf7636d7",
   "metadata": {},
   "outputs": [],
   "source": [
    "if client.collections.exists(\"Question\"):\n",
    "    client.collections.delete(\"Question\")"
   ]
  },
  {
   "cell_type": "code",
   "execution_count": 14,
   "id": "7d8bc098",
   "metadata": {},
   "outputs": [
    {
     "ename": "AttributeError",
     "evalue": "'_Collections' object has no attribute 'create_class'",
     "output_type": "error",
     "traceback": [
      "\u001b[1;31m---------------------------------------------------------------------------\u001b[0m",
      "\u001b[1;31mAttributeError\u001b[0m                            Traceback (most recent call last)",
      "Cell \u001b[1;32mIn[14], line 28\u001b[0m\n\u001b[0;32m      1\u001b[0m \u001b[38;5;66;03m#Define the class that will be used to add the data\u001b[39;00m\n\u001b[0;32m      2\u001b[0m \u001b[38;5;66;03m# We need to have properties for the questions, answer and round\u001b[39;00m\n\u001b[0;32m      4\u001b[0m class_definition \u001b[38;5;241m=\u001b[39m {\n\u001b[0;32m      5\u001b[0m     \n\u001b[0;32m      6\u001b[0m     \u001b[38;5;124m\"\u001b[39m\u001b[38;5;124mclass\u001b[39m\u001b[38;5;124m\"\u001b[39m: \u001b[38;5;124m\"\u001b[39m\u001b[38;5;124mQuestion\u001b[39m\u001b[38;5;124m\"\u001b[39m,\n\u001b[1;32m   (...)\u001b[0m\n\u001b[0;32m     25\u001b[0m     ]\n\u001b[0;32m     26\u001b[0m }\n\u001b[1;32m---> 28\u001b[0m \u001b[43mclient\u001b[49m\u001b[38;5;241;43m.\u001b[39;49m\u001b[43mcollections\u001b[49m\u001b[38;5;241;43m.\u001b[39;49m\u001b[43mcreate_class\u001b[49m(class_definition)\n",
      "\u001b[1;31mAttributeError\u001b[0m: '_Collections' object has no attribute 'create_class'"
     ]
    }
   ],
   "source": [
    "#Define the class that will be used to add the data\n",
    "# We need to have properties for the questions, answer and round\n",
    "\n",
    "class_definition = {\n",
    "    \n",
    "    \"class\": \"Question\",\n",
    "    \"vectorizer\":\"text2vec-openai\",\n",
    "    \"vectorIndexConfig\": {\n",
    "        \"distance\" : \"cosine\"\n",
    "    },\n",
    "    \n",
    "    'properties' : [\n",
    "        {\n",
    "            'name' : \"question\",\n",
    "            \"dataType\" : ['text']\n",
    "        },\n",
    "        {\n",
    "            'name' : \"answer\",\n",
    "            \"dataType\" : [\"text\"]\n",
    "        },\n",
    "        {\n",
    "            'name' : 'round',\n",
    "            'dataType': ['text']\n",
    "        }\n",
    "    ]\n",
    "}\n",
    "\n",
    "client.collections.create_class(class_definition)"
   ]
  },
  {
   "cell_type": "code",
   "execution_count": 5,
   "id": "d0a2d2fc",
   "metadata": {},
   "outputs": [
    {
     "name": "stderr",
     "output_type": "stream",
     "text": [
      "/Users/linkedin/anaconda3/lib/python3.11/site-packages/weaviate/warnings.py:130: DeprecationWarning: Dep006: You are using the `client.batch()` method, which will be removed in the next major release.\n",
      "            Please instead use the `client.batch.configure()` method to configure your batch and `client.batch` to enter the context manager.\n",
      "            See https://weaviate.io/developers/weaviate/client-libraries/python for details.\n",
      "  warnings.warn(\n"
     ]
    }
   ],
   "source": [
    "#Insert the data into Weaviate\n",
    "\n",
    "\n",
    "with client.batch() as batch:\n",
    "    for o in data:\n",
    "        obj_body = {\n",
    "            'question':o[\"Question\"],\n",
    "            'answer':o[\"Answer\"],\n",
    "            'round':o[\"Round\"]\n",
    "        }\n",
    "        \n",
    "        batch.add_data_object(\n",
    "        data_object=obj_body,\n",
    "        class_name=\"Question\"\n",
    "        )"
   ]
  },
  {
   "cell_type": "markdown",
   "id": "1a5280a9",
   "metadata": {},
   "source": [
    "### Q2. How do you check for the number of objects stored in the database?"
   ]
  },
  {
   "cell_type": "code",
   "execution_count": 6,
   "id": "57f315e5",
   "metadata": {},
   "outputs": [
    {
     "name": "stdout",
     "output_type": "stream",
     "text": [
      "{\n",
      "  \"data\": {\n",
      "    \"Aggregate\": {\n",
      "      \"Question\": [\n",
      "        {\n",
      "          \"meta\": {\n",
      "            \"count\": 1000\n",
      "          }\n",
      "        }\n",
      "      ]\n",
      "    }\n",
      "  }\n",
      "}\n"
     ]
    }
   ],
   "source": [
    "print(json.dumps(client.query.aggregate(\"Question\").with_meta_count().do(), indent=2))"
   ]
  },
  {
   "cell_type": "markdown",
   "id": "5c0943f5",
   "metadata": {},
   "source": [
    "### 3. Search for objects that are close to the concept of \"spicy food recipes\" and show 4 QnA"
   ]
  },
  {
   "cell_type": "code",
   "execution_count": 7,
   "id": "d8899328",
   "metadata": {},
   "outputs": [
    {
     "name": "stdout",
     "output_type": "stream",
     "text": [
      "{\n",
      "  \"data\": {\n",
      "    \"Get\": {\n",
      "      \"Question\": [\n",
      "        {\n",
      "          \"_additional\": {\n",
      "            \"distance\": 0.20050466\n",
      "          },\n",
      "          \"answer\": \"tripe\",\n",
      "          \"question\": \"Popular in Pennsylvania, pepper pot is a peppery soup made from this stomach lining\"\n",
      "        },\n",
      "        {\n",
      "          \"_additional\": {\n",
      "            \"distance\": 0.20277321\n",
      "          },\n",
      "          \"answer\": \"Chiles Rellenos\",\n",
      "          \"question\": \"The name of this Mexican dish made with chiles & cheese translates to \\\"stuffed peppers\\\"\"\n",
      "        },\n",
      "        {\n",
      "          \"_additional\": {\n",
      "            \"distance\": 0.20874399\n",
      "          },\n",
      "          \"answer\": \"Truffles\",\n",
      "          \"question\": \"Dishes flavored or garnished with these rare costly fungi are referred to as \\\"a la Perigourdine\\\"\"\n",
      "        },\n",
      "        {\n",
      "          \"_additional\": {\n",
      "            \"distance\": 0.21527755\n",
      "          },\n",
      "          \"answer\": \"bread\",\n",
      "          \"question\": \"Naan, an east Indian form of this, is usually baked in a tandoor\"\n",
      "        }\n",
      "      ]\n",
      "    }\n",
      "  }\n",
      "}\n"
     ]
    }
   ],
   "source": [
    "response = (client.query\n",
    "            .get(\"Question\", ['question','answer'])\n",
    "            .with_near_text({\"concepts\":\"spicy food recipes\"})\n",
    "            .with_additional(['distance'])\n",
    "            .with_limit(4)\n",
    "            .do()\n",
    ")\n",
    "\n",
    "print(json.dumps(response, indent=2))"
   ]
  },
  {
   "cell_type": "markdown",
   "id": "ec604d4b",
   "metadata": {},
   "source": [
    "### 4. Can you find \"spicy food recipes\" related questions that were used in Double Jeopardy rounds?"
   ]
  },
  {
   "cell_type": "code",
   "execution_count": 9,
   "id": "279936bb",
   "metadata": {},
   "outputs": [
    {
     "name": "stdout",
     "output_type": "stream",
     "text": [
      "{\n",
      "  \"data\": {\n",
      "    \"Get\": {\n",
      "      \"Question\": [\n",
      "        {\n",
      "          \"_additional\": {\n",
      "            \"distance\": 0.22439378\n",
      "          },\n",
      "          \"answer\": \"\\\"Jambalaya\\\"\",\n",
      "          \"question\": \"This Creole concoction of meat & seafood is so good Hank Williams wrote a song about it in 1952\",\n",
      "          \"round\": \"Double Jeopardy!\"\n",
      "        },\n",
      "        {\n",
      "          \"_additional\": {\n",
      "            \"distance\": 0.23735112\n",
      "          },\n",
      "          \"answer\": \"Herring\",\n",
      "          \"question\": \"The Bismarck type of this fish is made of fillets cured in vinegar, salt & onions\",\n",
      "          \"round\": \"Double Jeopardy!\"\n",
      "        },\n",
      "        {\n",
      "          \"_additional\": {\n",
      "            \"distance\": 0.24249423\n",
      "          },\n",
      "          \"answer\": \"litmus\",\n",
      "          \"question\": \"Vegetable dye that turns red in acid solutions & blue in alkaline solutions\",\n",
      "          \"round\": \"Double Jeopardy!\"\n",
      "        }\n",
      "      ]\n",
      "    }\n",
      "  }\n",
      "}\n"
     ]
    }
   ],
   "source": [
    "response = (client.query\n",
    "            .get(\"Question\", ['question','answer', 'round'])\n",
    "            .with_near_text({\"concepts\":\"spicy food recipes\"})\n",
    "            .with_additional(['distance'])\n",
    "            .with_limit(3)\n",
    "            .with_where({\n",
    "                \"path\": ['round'],\n",
    "                \"operator\" : \"Equal\",\n",
    "                \"valueText\" : \"Double Jeopardy!\"\n",
    "            })\n",
    "            .do()\n",
    ")\n",
    "\n",
    "print(json.dumps(response, indent=2))"
   ]
  }
 ],
 "metadata": {
  "kernelspec": {
   "display_name": "Python 3 (ipykernel)",
   "language": "python",
   "name": "python3"
  },
  "language_info": {
   "codemirror_mode": {
    "name": "ipython",
    "version": 3
   },
   "file_extension": ".py",
   "mimetype": "text/x-python",
   "name": "python",
   "nbconvert_exporter": "python",
   "pygments_lexer": "ipython3",
   "version": "3.10.13"
  }
 },
 "nbformat": 4,
 "nbformat_minor": 5
}
