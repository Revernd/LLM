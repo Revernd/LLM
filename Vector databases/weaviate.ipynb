{
 "cells": [
  {
   "cell_type": "code",
   "execution_count": 1,
   "id": "a4d67e97-34c1-405a-8fb3-3db3269fe56c",
   "metadata": {},
   "outputs": [],
   "source": [
    "import requests\n",
    "import json"
   ]
  },
  {
   "cell_type": "code",
   "execution_count": 2,
   "id": "fdc2b373-84fd-49e9-813e-bcb0cedbf0e7",
   "metadata": {},
   "outputs": [],
   "source": [
    "# Download the data\n",
    "resp = requests.get('https://raw.githubusercontent.com/weaviate-tutorials/quickstart/main/data/jeopardy_tiny.json')\n",
    "data = json.loads(resp.text)  # Load data\n"
   ]
  },
  {
   "cell_type": "code",
   "execution_count": 3,
   "id": "e0f6ce0a-1b3f-4dc3-8ae6-100b4fb0a257",
   "metadata": {},
   "outputs": [
    {
     "name": "stdout",
     "output_type": "stream",
     "text": [
      "<class 'list'> 10\n"
     ]
    }
   ],
   "source": [
    "print(type(data), len(data))"
   ]
  },
  {
   "cell_type": "code",
   "execution_count": 6,
   "id": "6d61c438-2f7d-4291-9485-e70d59970f2a",
   "metadata": {},
   "outputs": [
    {
     "name": "stdout",
     "output_type": "stream",
     "text": [
      "{\n",
      "    \"Category\": \"SCIENCE\",\n",
      "    \"Question\": \"This organ removes excess glucose from the blood & stores it as glycogen\",\n",
      "    \"Answer\": \"Liver\"\n",
      "}\n"
     ]
    }
   ],
   "source": [
    "print(json.dumps(data[0], indent=4))"
   ]
  },
  {
   "cell_type": "code",
   "execution_count": 9,
   "id": "635c7c9b-4547-4ee5-b347-442d44bf5992",
   "metadata": {},
   "outputs": [],
   "source": [
    "def json_print(data, indent=4):\n",
    "    print(json.dumps(data, indent=indent))"
   ]
  },
  {
   "cell_type": "code",
   "execution_count": 10,
   "id": "5c598d0b-0710-489d-9747-c1e05ffc5bb8",
   "metadata": {},
   "outputs": [
    {
     "name": "stdout",
     "output_type": "stream",
     "text": [
      "[\n",
      "    {\n",
      "        \"Category\": \"SCIENCE\",\n",
      "        \"Question\": \"This organ removes excess glucose from the blood & stores it as glycogen\",\n",
      "        \"Answer\": \"Liver\"\n",
      "    },\n",
      "    {\n",
      "        \"Category\": \"ANIMALS\",\n",
      "        \"Question\": \"It's the only living mammal in the order Proboseidea\",\n",
      "        \"Answer\": \"Elephant\"\n",
      "    },\n",
      "    {\n",
      "        \"Category\": \"ANIMALS\",\n",
      "        \"Question\": \"The gavial looks very much like a crocodile except for this bodily feature\",\n",
      "        \"Answer\": \"the nose or snout\"\n",
      "    },\n",
      "    {\n",
      "        \"Category\": \"ANIMALS\",\n",
      "        \"Question\": \"Weighing around a ton, the eland is the largest species of this animal in Africa\",\n",
      "        \"Answer\": \"Antelope\"\n",
      "    },\n",
      "    {\n",
      "        \"Category\": \"ANIMALS\",\n",
      "        \"Question\": \"Heaviest of all poisonous snakes is this North American rattlesnake\",\n",
      "        \"Answer\": \"the diamondback rattler\"\n",
      "    },\n",
      "    {\n",
      "        \"Category\": \"SCIENCE\",\n",
      "        \"Question\": \"2000 news: the Gunnison sage grouse isn't just another northern sage grouse, but a new one of this classification\",\n",
      "        \"Answer\": \"species\"\n",
      "    },\n",
      "    {\n",
      "        \"Category\": \"SCIENCE\",\n",
      "        \"Question\": \"A metal that is ductile can be pulled into this while cold & under pressure\",\n",
      "        \"Answer\": \"wire\"\n",
      "    },\n",
      "    {\n",
      "        \"Category\": \"SCIENCE\",\n",
      "        \"Question\": \"In 1953 Watson & Crick built a model of the molecular structure of this, the gene-carrying substance\",\n",
      "        \"Answer\": \"DNA\"\n",
      "    },\n",
      "    {\n",
      "        \"Category\": \"SCIENCE\",\n",
      "        \"Question\": \"Changes in the tropospheric layer of this are what gives us weather\",\n",
      "        \"Answer\": \"the atmosphere\"\n",
      "    },\n",
      "    {\n",
      "        \"Category\": \"SCIENCE\",\n",
      "        \"Question\": \"In 70-degree air, a plane traveling at about 1,130 feet per second breaks it\",\n",
      "        \"Answer\": \"Sound barrier\"\n",
      "    }\n",
      "]\n"
     ]
    }
   ],
   "source": [
    "json_print(data)"
   ]
  },
  {
   "cell_type": "code",
   "execution_count": 12,
   "id": "e37eb068-1f1b-4794-ab34-cefe8ccf6bd9",
   "metadata": {},
   "outputs": [
    {
     "name": "stdout",
     "output_type": "stream",
     "text": [
      "Collecting weaviate-client\n",
      "  Downloading weaviate_client-4.7.1-py3-none-any.whl.metadata (3.3 kB)\n",
      "Requirement already satisfied: requests<3.0.0,>=2.30.0 in c:\\programdata\\miniconda3\\envs\\torch\\lib\\site-packages (from weaviate-client) (2.31.0)\n",
      "Requirement already satisfied: httpx<=0.27.0,>=0.25.0 in c:\\programdata\\miniconda3\\envs\\torch\\lib\\site-packages (from weaviate-client) (0.27.0)\n",
      "Collecting validators==0.33.0 (from weaviate-client)\n",
      "  Downloading validators-0.33.0-py3-none-any.whl.metadata (3.8 kB)\n",
      "Collecting authlib<2.0.0,>=1.2.1 (from weaviate-client)\n",
      "  Downloading Authlib-1.3.2-py2.py3-none-any.whl.metadata (3.9 kB)\n",
      "Requirement already satisfied: pydantic<3.0.0,>=2.5.0 in c:\\programdata\\miniconda3\\envs\\torch\\lib\\site-packages (from weaviate-client) (2.5.1)\n",
      "Requirement already satisfied: grpcio<2.0.0,>=1.57.0 in c:\\programdata\\miniconda3\\envs\\torch\\lib\\site-packages (from weaviate-client) (1.65.4)\n",
      "Collecting grpcio-tools<2.0.0,>=1.57.0 (from weaviate-client)\n",
      "  Downloading grpcio_tools-1.66.0-cp310-cp310-win_amd64.whl.metadata (5.5 kB)\n",
      "Collecting grpcio-health-checking<2.0.0,>=1.57.0 (from weaviate-client)\n",
      "  Downloading grpcio_health_checking-1.66.0-py3-none-any.whl.metadata (1.1 kB)\n",
      "Requirement already satisfied: cryptography in c:\\programdata\\miniconda3\\envs\\torch\\lib\\site-packages (from authlib<2.0.0,>=1.2.1->weaviate-client) (42.0.2)\n",
      "Collecting protobuf<6.0dev,>=5.26.1 (from grpcio-health-checking<2.0.0,>=1.57.0->weaviate-client)\n",
      "  Downloading protobuf-5.27.4-cp310-abi3-win_amd64.whl.metadata (592 bytes)\n",
      "Collecting grpcio<2.0.0,>=1.57.0 (from weaviate-client)\n",
      "  Downloading grpcio-1.66.0-cp310-cp310-win_amd64.whl.metadata (4.0 kB)\n",
      "Requirement already satisfied: setuptools in c:\\programdata\\miniconda3\\envs\\torch\\lib\\site-packages (from grpcio-tools<2.0.0,>=1.57.0->weaviate-client) (68.2.2)\n",
      "Requirement already satisfied: anyio in c:\\programdata\\miniconda3\\envs\\torch\\lib\\site-packages (from httpx<=0.27.0,>=0.25.0->weaviate-client) (3.7.1)\n",
      "Requirement already satisfied: certifi in c:\\programdata\\miniconda3\\envs\\torch\\lib\\site-packages (from httpx<=0.27.0,>=0.25.0->weaviate-client) (2024.6.2)\n",
      "Requirement already satisfied: httpcore==1.* in c:\\programdata\\miniconda3\\envs\\torch\\lib\\site-packages (from httpx<=0.27.0,>=0.25.0->weaviate-client) (1.0.5)\n",
      "Requirement already satisfied: idna in c:\\programdata\\miniconda3\\envs\\torch\\lib\\site-packages (from httpx<=0.27.0,>=0.25.0->weaviate-client) (3.4)\n",
      "Requirement already satisfied: sniffio in c:\\programdata\\miniconda3\\envs\\torch\\lib\\site-packages (from httpx<=0.27.0,>=0.25.0->weaviate-client) (1.3.0)\n",
      "Requirement already satisfied: h11<0.15,>=0.13 in c:\\programdata\\miniconda3\\envs\\torch\\lib\\site-packages (from httpcore==1.*->httpx<=0.27.0,>=0.25.0->weaviate-client) (0.14.0)\n",
      "Requirement already satisfied: annotated-types>=0.4.0 in c:\\programdata\\miniconda3\\envs\\torch\\lib\\site-packages (from pydantic<3.0.0,>=2.5.0->weaviate-client) (0.6.0)\n",
      "Requirement already satisfied: pydantic-core==2.14.3 in c:\\programdata\\miniconda3\\envs\\torch\\lib\\site-packages (from pydantic<3.0.0,>=2.5.0->weaviate-client) (2.14.3)\n",
      "Requirement already satisfied: typing-extensions>=4.6.1 in c:\\programdata\\miniconda3\\envs\\torch\\lib\\site-packages (from pydantic<3.0.0,>=2.5.0->weaviate-client) (4.8.0)\n",
      "Requirement already satisfied: charset-normalizer<4,>=2 in c:\\programdata\\miniconda3\\envs\\torch\\lib\\site-packages (from requests<3.0.0,>=2.30.0->weaviate-client) (2.0.4)\n",
      "Requirement already satisfied: urllib3<3,>=1.21.1 in c:\\programdata\\miniconda3\\envs\\torch\\lib\\site-packages (from requests<3.0.0,>=2.30.0->weaviate-client) (1.26.18)\n",
      "Requirement already satisfied: exceptiongroup in c:\\programdata\\miniconda3\\envs\\torch\\lib\\site-packages (from anyio->httpx<=0.27.0,>=0.25.0->weaviate-client) (1.1.3)\n",
      "Requirement already satisfied: cffi>=1.12 in c:\\programdata\\miniconda3\\envs\\torch\\lib\\site-packages (from cryptography->authlib<2.0.0,>=1.2.1->weaviate-client) (1.16.0)\n",
      "Requirement already satisfied: pycparser in c:\\programdata\\miniconda3\\envs\\torch\\lib\\site-packages (from cffi>=1.12->cryptography->authlib<2.0.0,>=1.2.1->weaviate-client) (2.21)\n",
      "Downloading weaviate_client-4.7.1-py3-none-any.whl (368 kB)\n",
      "   ---------------------------------------- 0.0/368.3 kB ? eta -:--:--\n",
      "   ----- ---------------------------------- 51.2/368.3 kB 1.3 MB/s eta 0:00:01\n",
      "   -------------------------------------- - 358.4/368.3 kB 4.4 MB/s eta 0:00:01\n",
      "   ---------------------------------------- 368.3/368.3 kB 3.8 MB/s eta 0:00:00\n",
      "Downloading validators-0.33.0-py3-none-any.whl (43 kB)\n",
      "   ---------------------------------------- 0.0/43.3 kB ? eta -:--:--\n",
      "   ---------------------------------------- 43.3/43.3 kB 2.2 MB/s eta 0:00:00\n",
      "Downloading Authlib-1.3.2-py2.py3-none-any.whl (225 kB)\n",
      "   ---------------------------------------- 0.0/225.1 kB ? eta -:--:--\n",
      "   --------------------------------------- 225.1/225.1 kB 14.3 MB/s eta 0:00:00\n",
      "Downloading grpcio_health_checking-1.66.0-py3-none-any.whl (18 kB)\n",
      "Downloading grpcio-1.66.0-cp310-cp310-win_amd64.whl (4.3 MB)\n",
      "   ---------------------------------------- 0.0/4.3 MB ? eta -:--:--\n",
      "   --------- ------------------------------ 1.0/4.3 MB 33.4 MB/s eta 0:00:01\n",
      "   ------------------- -------------------- 2.1/4.3 MB 26.8 MB/s eta 0:00:01\n",
      "   ---------------------------- ----------- 3.1/4.3 MB 24.5 MB/s eta 0:00:01\n",
      "   -------------------------------------- - 4.1/4.3 MB 23.9 MB/s eta 0:00:01\n",
      "   ---------------------------------------- 4.3/4.3 MB 21.1 MB/s eta 0:00:00\n",
      "Downloading grpcio_tools-1.66.0-cp310-cp310-win_amd64.whl (1.1 MB)\n",
      "   ---------------------------------------- 0.0/1.1 MB ? eta -:--:--\n",
      "   --------------------------------- ------ 0.9/1.1 MB 29.1 MB/s eta 0:00:01\n",
      "   ---------------------------------------- 1.1/1.1 MB 17.4 MB/s eta 0:00:00\n",
      "Downloading protobuf-5.27.4-cp310-abi3-win_amd64.whl (426 kB)\n",
      "   ---------------------------------------- 0.0/426.9 kB ? eta -:--:--\n",
      "   --------------------------------------- 426.9/426.9 kB 13.4 MB/s eta 0:00:00\n",
      "Installing collected packages: validators, protobuf, grpcio, grpcio-tools, grpcio-health-checking, authlib, weaviate-client\n",
      "  Attempting uninstall: protobuf\n",
      "    Found existing installation: protobuf 3.20.3\n",
      "    Uninstalling protobuf-3.20.3:\n",
      "      Successfully uninstalled protobuf-3.20.3\n",
      "  Attempting uninstall: grpcio\n",
      "    Found existing installation: grpcio 1.65.4\n",
      "    Uninstalling grpcio-1.65.4:\n",
      "      Successfully uninstalled grpcio-1.65.4\n",
      "Successfully installed authlib-1.3.2 grpcio-1.66.0 grpcio-health-checking-1.66.0 grpcio-tools-1.66.0 protobuf-5.27.4 validators-0.33.0 weaviate-client-4.7.1\n"
     ]
    },
    {
     "name": "stderr",
     "output_type": "stream",
     "text": [
      "ERROR: pip's dependency resolver does not currently take into account all the packages that are installed. This behaviour is the source of the following dependency conflicts.\n",
      "onnx 1.13.1 requires protobuf<4,>=3.20.2, but you have protobuf 5.27.4 which is incompatible.\n",
      "opentelemetry-proto 1.26.0 requires protobuf<5.0,>=3.19, but you have protobuf 5.27.4 which is incompatible.\n",
      "tensorboard 2.17.0 requires protobuf!=4.24.0,<5.0.0,>=3.19.6, but you have protobuf 5.27.4 which is incompatible.\n",
      "tensorflow-intel 2.17.0 requires protobuf!=4.21.0,!=4.21.1,!=4.21.2,!=4.21.3,!=4.21.4,!=4.21.5,<5.0.0dev,>=3.20.3, but you have protobuf 5.27.4 which is incompatible.\n"
     ]
    }
   ],
   "source": [
    "!pip install -U weaviate-client"
   ]
  },
  {
   "cell_type": "code",
   "execution_count": 15,
   "id": "5df906c5-96c5-481d-a520-3375092c0fdc",
   "metadata": {},
   "outputs": [],
   "source": [
    "import weaviate\n",
    "from weaviate.embedded import EmbeddedOptions\n",
    "import os"
   ]
  },
  {
   "cell_type": "code",
   "execution_count": 67,
   "id": "0f4bb6f3-9331-4d6c-bede-5f781bde600f",
   "metadata": {},
   "outputs": [],
   "source": [
    "#Start up an instance of Weaviate\n",
    "client = weaviate.connect_to_weaviate_cloud(cluster_url='https://kadg1vjettw3hkvszkev3g.c0.us-east1.gcp.weaviate.cloud',  # Replace with your Weaviate Cloud URL\n",
    "                         auth_credentials=weaviate.auth.AuthApiKey(\n",
    "                                api_key = 'fFw62ouvsYZZMm3EfnAG9KXrQyno8lMu067i',),\n",
    "                        #additional_headers={\n",
    "                        # \"X-OpenAI-Api-Key\": \"<OPENAI_API_KEY>\" \n",
    "                        #}\n",
    "                        )"
   ]
  },
  {
   "cell_type": "code",
   "execution_count": 70,
   "id": "c77055e2-ba02-4fdc-bfd1-1a41880c6533",
   "metadata": {},
   "outputs": [
    {
     "data": {
      "text/plain": [
       "True"
      ]
     },
     "execution_count": 70,
     "metadata": {},
     "output_type": "execute_result"
    }
   ],
   "source": [
    "# Check connection\n",
    "client.is_ready()"
   ]
  },
  {
   "cell_type": "code",
   "execution_count": 89,
   "id": "fb65ba59-5b99-43c0-9c59-f32cacb5f9b6",
   "metadata": {},
   "outputs": [],
   "source": [
    "response = client.collections.list_all(simple=True)\n",
    "if response['Question']:\n",
    "    client.collections.delete(\"Question\") "
   ]
  },
  {
   "cell_type": "code",
   "execution_count": 92,
   "id": "2df1ffeb-2ac7-4e95-a602-c47fb2178619",
   "metadata": {},
   "outputs": [],
   "source": [
    "import weaviate.classes as wvc\n",
    "\n",
    "# Create the collection. Weaviate's autoschema feature will infer properties when importing.\n",
    "\n",
    "\n",
    "questions = client.collections.create(\n",
    "        \"Question\",\n",
    "        vectorizer_config=wvc.config.Configure.Vectorizer.text2vec_openai(),\n",
    "    )"
   ]
  },
  {
   "cell_type": "code",
   "execution_count": 93,
   "id": "1a1de145-4fbb-47ce-8888-dd903d4684d7",
   "metadata": {},
   "outputs": [
    {
     "ename": "WeaviateInsertManyAllFailedError",
     "evalue": "Every object failed during insertion. Here is the set of all errors: API Key: no api key found neither in request header: X-Openai-Api-Key nor in environment variable under OPENAI_APIKEY",
     "output_type": "error",
     "traceback": [
      "\u001b[1;31m---------------------------------------------------------------------------\u001b[0m",
      "\u001b[1;31mWeaviateInsertManyAllFailedError\u001b[0m          Traceback (most recent call last)",
      "Cell \u001b[1;32mIn[93], line 13\u001b[0m\n\u001b[0;32m      4\u001b[0m     question_objs\u001b[38;5;241m.\u001b[39mappend(wvc\u001b[38;5;241m.\u001b[39mdata\u001b[38;5;241m.\u001b[39mDataObject(\n\u001b[0;32m      5\u001b[0m         properties\u001b[38;5;241m=\u001b[39m{\n\u001b[0;32m      6\u001b[0m             \u001b[38;5;124m\"\u001b[39m\u001b[38;5;124manswer\u001b[39m\u001b[38;5;124m\"\u001b[39m: d[\u001b[38;5;124m\"\u001b[39m\u001b[38;5;124mAnswer\u001b[39m\u001b[38;5;124m\"\u001b[39m],\n\u001b[1;32m   (...)\u001b[0m\n\u001b[0;32m      9\u001b[0m         }\n\u001b[0;32m     10\u001b[0m     ))\n\u001b[0;32m     12\u001b[0m questions \u001b[38;5;241m=\u001b[39m client\u001b[38;5;241m.\u001b[39mcollections\u001b[38;5;241m.\u001b[39mget(\u001b[38;5;124m\"\u001b[39m\u001b[38;5;124mQuestion\u001b[39m\u001b[38;5;124m\"\u001b[39m)\n\u001b[1;32m---> 13\u001b[0m \u001b[43mquestions\u001b[49m\u001b[38;5;241;43m.\u001b[39;49m\u001b[43mdata\u001b[49m\u001b[38;5;241;43m.\u001b[39;49m\u001b[43minsert_many\u001b[49m\u001b[43m(\u001b[49m\u001b[43mquestion_objs\u001b[49m\u001b[43m)\u001b[49m    \u001b[38;5;66;03m# This uses batching under the hood\u001b[39;00m\n",
      "File \u001b[1;32mC:\\ProgramData\\miniconda3\\envs\\torch\\lib\\site-packages\\weaviate\\syncify.py:23\u001b[0m, in \u001b[0;36mconvert.<locals>.sync_method\u001b[1;34m(self, __new_name, *args, **kwargs)\u001b[0m\n\u001b[0;32m     20\u001b[0m \u001b[38;5;129m@wraps\u001b[39m(method)  \u001b[38;5;66;03m# type: ignore\u001b[39;00m\n\u001b[0;32m     21\u001b[0m \u001b[38;5;28;01mdef\u001b[39;00m \u001b[38;5;21msync_method\u001b[39m(\u001b[38;5;28mself\u001b[39m, \u001b[38;5;241m*\u001b[39margs, __new_name\u001b[38;5;241m=\u001b[39mnew_name, \u001b[38;5;241m*\u001b[39m\u001b[38;5;241m*\u001b[39mkwargs):\n\u001b[0;32m     22\u001b[0m     async_func \u001b[38;5;241m=\u001b[39m \u001b[38;5;28mgetattr\u001b[39m(\u001b[38;5;28mcls\u001b[39m, __new_name)\n\u001b[1;32m---> 23\u001b[0m     \u001b[38;5;28;01mreturn\u001b[39;00m _EventLoopSingleton\u001b[38;5;241m.\u001b[39mget_instance()\u001b[38;5;241m.\u001b[39mrun_until_complete(\n\u001b[0;32m     24\u001b[0m         async_func, \u001b[38;5;28mself\u001b[39m, \u001b[38;5;241m*\u001b[39margs, \u001b[38;5;241m*\u001b[39m\u001b[38;5;241m*\u001b[39mkwargs\n\u001b[0;32m     25\u001b[0m     )\n",
      "File \u001b[1;32mC:\\ProgramData\\miniconda3\\envs\\torch\\lib\\site-packages\\weaviate\\event_loop.py:40\u001b[0m, in \u001b[0;36m_EventLoop.run_until_complete\u001b[1;34m(self, f, *args, **kwargs)\u001b[0m\n\u001b[0;32m     38\u001b[0m     \u001b[38;5;28;01mraise\u001b[39;00m WeaviateClosedClientError()\n\u001b[0;32m     39\u001b[0m fut \u001b[38;5;241m=\u001b[39m asyncio\u001b[38;5;241m.\u001b[39mrun_coroutine_threadsafe(f(\u001b[38;5;241m*\u001b[39margs, \u001b[38;5;241m*\u001b[39m\u001b[38;5;241m*\u001b[39mkwargs), \u001b[38;5;28mself\u001b[39m\u001b[38;5;241m.\u001b[39mloop)\n\u001b[1;32m---> 40\u001b[0m \u001b[38;5;28;01mreturn\u001b[39;00m \u001b[43mfut\u001b[49m\u001b[38;5;241;43m.\u001b[39;49m\u001b[43mresult\u001b[49m\u001b[43m(\u001b[49m\u001b[43m)\u001b[49m\n",
      "File \u001b[1;32mC:\\ProgramData\\miniconda3\\envs\\torch\\lib\\concurrent\\futures\\_base.py:458\u001b[0m, in \u001b[0;36mFuture.result\u001b[1;34m(self, timeout)\u001b[0m\n\u001b[0;32m    456\u001b[0m     \u001b[38;5;28;01mraise\u001b[39;00m CancelledError()\n\u001b[0;32m    457\u001b[0m \u001b[38;5;28;01melif\u001b[39;00m \u001b[38;5;28mself\u001b[39m\u001b[38;5;241m.\u001b[39m_state \u001b[38;5;241m==\u001b[39m FINISHED:\n\u001b[1;32m--> 458\u001b[0m     \u001b[38;5;28;01mreturn\u001b[39;00m \u001b[38;5;28;43mself\u001b[39;49m\u001b[38;5;241;43m.\u001b[39;49m\u001b[43m__get_result\u001b[49m\u001b[43m(\u001b[49m\u001b[43m)\u001b[49m\n\u001b[0;32m    459\u001b[0m \u001b[38;5;28;01melse\u001b[39;00m:\n\u001b[0;32m    460\u001b[0m     \u001b[38;5;28;01mraise\u001b[39;00m \u001b[38;5;167;01mTimeoutError\u001b[39;00m()\n",
      "File \u001b[1;32mC:\\ProgramData\\miniconda3\\envs\\torch\\lib\\concurrent\\futures\\_base.py:403\u001b[0m, in \u001b[0;36mFuture.__get_result\u001b[1;34m(self)\u001b[0m\n\u001b[0;32m    401\u001b[0m \u001b[38;5;28;01mif\u001b[39;00m \u001b[38;5;28mself\u001b[39m\u001b[38;5;241m.\u001b[39m_exception:\n\u001b[0;32m    402\u001b[0m     \u001b[38;5;28;01mtry\u001b[39;00m:\n\u001b[1;32m--> 403\u001b[0m         \u001b[38;5;28;01mraise\u001b[39;00m \u001b[38;5;28mself\u001b[39m\u001b[38;5;241m.\u001b[39m_exception\n\u001b[0;32m    404\u001b[0m     \u001b[38;5;28;01mfinally\u001b[39;00m:\n\u001b[0;32m    405\u001b[0m         \u001b[38;5;66;03m# Break a reference cycle with the exception in self._exception\u001b[39;00m\n\u001b[0;32m    406\u001b[0m         \u001b[38;5;28mself\u001b[39m \u001b[38;5;241m=\u001b[39m \u001b[38;5;28;01mNone\u001b[39;00m\n",
      "File \u001b[1;32mC:\\ProgramData\\miniconda3\\envs\\torch\\lib\\site-packages\\weaviate\\collections\\data\\data.py:386\u001b[0m, in \u001b[0;36m_DataCollectionAsync.insert_many\u001b[1;34m(self, objects)\u001b[0m\n\u001b[0;32m    346\u001b[0m \u001b[38;5;250m\u001b[39m\u001b[38;5;124;03m\"\"\"Insert multiple objects into the collection.\u001b[39;00m\n\u001b[0;32m    347\u001b[0m \n\u001b[0;32m    348\u001b[0m \u001b[38;5;124;03mArguments:\u001b[39;00m\n\u001b[1;32m   (...)\u001b[0m\n\u001b[0;32m    360\u001b[0m \u001b[38;5;124;03m        If every object in the batch fails to be inserted. The exception message contains details about the failure.\u001b[39;00m\n\u001b[0;32m    361\u001b[0m \u001b[38;5;124;03m\"\"\"\u001b[39;00m\n\u001b[0;32m    362\u001b[0m objs \u001b[38;5;241m=\u001b[39m [\n\u001b[0;32m    363\u001b[0m     (\n\u001b[0;32m    364\u001b[0m         _BatchObject(\n\u001b[1;32m   (...)\u001b[0m\n\u001b[0;32m    384\u001b[0m     \u001b[38;5;28;01mfor\u001b[39;00m idx, obj \u001b[38;5;129;01min\u001b[39;00m \u001b[38;5;28menumerate\u001b[39m(objects)\n\u001b[0;32m    385\u001b[0m ]\n\u001b[1;32m--> 386\u001b[0m res \u001b[38;5;241m=\u001b[39m \u001b[38;5;28;01mawait\u001b[39;00m \u001b[38;5;28mself\u001b[39m\u001b[38;5;241m.\u001b[39m_batch_grpc\u001b[38;5;241m.\u001b[39mobjects(objs, timeout\u001b[38;5;241m=\u001b[39m\u001b[38;5;28mself\u001b[39m\u001b[38;5;241m.\u001b[39m_connection\u001b[38;5;241m.\u001b[39mtimeout_config\u001b[38;5;241m.\u001b[39minsert)\n\u001b[0;32m    387\u001b[0m \u001b[38;5;28;01mif\u001b[39;00m (n_obj_errs \u001b[38;5;241m:=\u001b[39m \u001b[38;5;28mlen\u001b[39m(res\u001b[38;5;241m.\u001b[39merrors)) \u001b[38;5;241m>\u001b[39m \u001b[38;5;241m0\u001b[39m:\n\u001b[0;32m    388\u001b[0m     logger\u001b[38;5;241m.\u001b[39merror(\n\u001b[0;32m    389\u001b[0m         {\n\u001b[0;32m    390\u001b[0m             \u001b[38;5;124m\"\u001b[39m\u001b[38;5;124mmessage\u001b[39m\u001b[38;5;124m\"\u001b[39m: \u001b[38;5;124mf\u001b[39m\u001b[38;5;124m\"\u001b[39m\u001b[38;5;124mFailed to send \u001b[39m\u001b[38;5;132;01m{\u001b[39;00mn_obj_errs\u001b[38;5;132;01m}\u001b[39;00m\u001b[38;5;124m objects in a batch of \u001b[39m\u001b[38;5;132;01m{\u001b[39;00m\u001b[38;5;28mlen\u001b[39m(objs)\u001b[38;5;132;01m}\u001b[39;00m\u001b[38;5;124m. Please inspect the errors variable of the returned object for more information.\u001b[39m\u001b[38;5;124m\"\u001b[39m,\n\u001b[0;32m    391\u001b[0m             \u001b[38;5;124m\"\u001b[39m\u001b[38;5;124merrors\u001b[39m\u001b[38;5;124m\"\u001b[39m: res\u001b[38;5;241m.\u001b[39merrors,\n\u001b[0;32m    392\u001b[0m         }\n\u001b[0;32m    393\u001b[0m     )\n",
      "File \u001b[1;32mC:\\ProgramData\\miniconda3\\envs\\torch\\lib\\site-packages\\weaviate\\collections\\batch\\grpc_batch_objects.py:104\u001b[0m, in \u001b[0;36m_BatchGRPC.objects\u001b[1;34m(self, objects, timeout)\u001b[0m\n\u001b[0;32m    100\u001b[0m elapsed_time \u001b[38;5;241m=\u001b[39m time\u001b[38;5;241m.\u001b[39mtime() \u001b[38;5;241m-\u001b[39m start\n\u001b[0;32m    102\u001b[0m \u001b[38;5;28;01mif\u001b[39;00m \u001b[38;5;28mlen\u001b[39m(errors) \u001b[38;5;241m==\u001b[39m \u001b[38;5;28mlen\u001b[39m(weaviate_objs):\n\u001b[0;32m    103\u001b[0m     \u001b[38;5;66;03m# Escape sequence (backslash) not allowed in expression portion of f-string prior to Python 3.12: pylance\u001b[39;00m\n\u001b[1;32m--> 104\u001b[0m     \u001b[38;5;28;01mraise\u001b[39;00m WeaviateInsertManyAllFailedError(\n\u001b[0;32m    105\u001b[0m         \u001b[38;5;124m\"\u001b[39m\u001b[38;5;124mHere is the set of all errors: \u001b[39m\u001b[38;5;132;01m{}\u001b[39;00m\u001b[38;5;124m\"\u001b[39m\u001b[38;5;241m.\u001b[39mformat(\n\u001b[0;32m    106\u001b[0m             \u001b[38;5;124m\"\u001b[39m\u001b[38;5;130;01m\\n\u001b[39;00m\u001b[38;5;124m\"\u001b[39m\u001b[38;5;241m.\u001b[39mjoin(err \u001b[38;5;28;01mfor\u001b[39;00m err \u001b[38;5;129;01min\u001b[39;00m \u001b[38;5;28mset\u001b[39m(errors\u001b[38;5;241m.\u001b[39mvalues()))\n\u001b[0;32m    107\u001b[0m         )\n\u001b[0;32m    108\u001b[0m     )\n\u001b[0;32m    110\u001b[0m all_responses: List[Union[uuid_package\u001b[38;5;241m.\u001b[39mUUID, ErrorObject]] \u001b[38;5;241m=\u001b[39m cast(\n\u001b[0;32m    111\u001b[0m     List[Union[uuid_package\u001b[38;5;241m.\u001b[39mUUID, ErrorObject]], \u001b[38;5;28mlist\u001b[39m(\u001b[38;5;28mrange\u001b[39m(\u001b[38;5;28mlen\u001b[39m(weaviate_objs)))\n\u001b[0;32m    112\u001b[0m )\n\u001b[0;32m    113\u001b[0m return_success: Dict[\u001b[38;5;28mint\u001b[39m, uuid_package\u001b[38;5;241m.\u001b[39mUUID] \u001b[38;5;241m=\u001b[39m {}\n",
      "\u001b[1;31mWeaviateInsertManyAllFailedError\u001b[0m: Every object failed during insertion. Here is the set of all errors: API Key: no api key found neither in request header: X-Openai-Api-Key nor in environment variable under OPENAI_APIKEY"
     ]
    }
   ],
   "source": [
    "with client.batch.dynamic() as batch:\n",
    "    question_objs = list()\n",
    "    for i, d in enumerate(data):\n",
    "        question_objs.append(wvc.data.DataObject(\n",
    "            properties={\n",
    "                \"answer\": d[\"Answer\"],\n",
    "                \"question\": d[\"Question\"],\n",
    "                \"category\": d[\"Category\"],\n",
    "            }\n",
    "        ))\n",
    "\n",
    "    questions = client.collections.get(\"Question\")\n",
    "    questions.data.insert_many(question_objs)    # This uses batching under the hood"
   ]
  },
  {
   "cell_type": "code",
   "execution_count": 94,
   "id": "b2a004dd-08a0-46bb-83b9-c4a9624c971b",
   "metadata": {},
   "outputs": [
    {
     "ename": "WeaviateQueryError",
     "evalue": "Query call with protocol GRPC search failed with message <AioRpcError of RPC that terminated with:\n\tstatus = StatusCode.UNKNOWN\n\tdetails = \"explorer: get class: vectorize params: vectorize params: vectorize params: vectorize keywords: remote client vectorize: API Key: no api key found neither in request header: X-Openai-Api-Key nor in environment variable under OPENAI_APIKEY\"\n\tdebug_error_string = \"UNKNOWN:Error received from peer  {created_time:\"2024-08-28T03:52:54.272634+00:00\", grpc_status:2, grpc_message:\"explorer: get class: vectorize params: vectorize params: vectorize params: vectorize keywords: remote client vectorize: API Key: no api key found neither in request header: X-Openai-Api-Key nor in environment variable under OPENAI_APIKEY\"}\"\n>.",
     "output_type": "error",
     "traceback": [
      "\u001b[1;31m---------------------------------------------------------------------------\u001b[0m",
      "\u001b[1;31mAioRpcError\u001b[0m                               Traceback (most recent call last)",
      "File \u001b[1;32mC:\\ProgramData\\miniconda3\\envs\\torch\\lib\\site-packages\\weaviate\\collections\\grpc\\query.py:762\u001b[0m, in \u001b[0;36m_QueryGRPC.__call\u001b[1;34m(self, request)\u001b[0m\n\u001b[0;32m    761\u001b[0m \u001b[38;5;28;01massert\u001b[39;00m \u001b[38;5;28mself\u001b[39m\u001b[38;5;241m.\u001b[39m_connection\u001b[38;5;241m.\u001b[39mgrpc_stub \u001b[38;5;129;01mis\u001b[39;00m \u001b[38;5;129;01mnot\u001b[39;00m \u001b[38;5;28;01mNone\u001b[39;00m\n\u001b[1;32m--> 762\u001b[0m res \u001b[38;5;241m=\u001b[39m \u001b[38;5;28;01mawait\u001b[39;00m \u001b[38;5;28mself\u001b[39m\u001b[38;5;241m.\u001b[39m_connection\u001b[38;5;241m.\u001b[39mgrpc_stub\u001b[38;5;241m.\u001b[39mSearch(\n\u001b[0;32m    763\u001b[0m     request,\n\u001b[0;32m    764\u001b[0m     metadata\u001b[38;5;241m=\u001b[39m\u001b[38;5;28mself\u001b[39m\u001b[38;5;241m.\u001b[39m_connection\u001b[38;5;241m.\u001b[39mgrpc_headers(),\n\u001b[0;32m    765\u001b[0m     timeout\u001b[38;5;241m=\u001b[39m\u001b[38;5;28mself\u001b[39m\u001b[38;5;241m.\u001b[39m_connection\u001b[38;5;241m.\u001b[39mtimeout_config\u001b[38;5;241m.\u001b[39mquery,\n\u001b[0;32m    766\u001b[0m )\n\u001b[0;32m    767\u001b[0m \u001b[38;5;28;01mreturn\u001b[39;00m cast(search_get_pb2\u001b[38;5;241m.\u001b[39mSearchReply, res)\n",
      "File \u001b[1;32mC:\\ProgramData\\miniconda3\\envs\\torch\\lib\\site-packages\\grpc\\aio\\_call.py:327\u001b[0m, in \u001b[0;36m_UnaryResponseMixin.__await__\u001b[1;34m(self)\u001b[0m\n\u001b[0;32m    326\u001b[0m     \u001b[38;5;28;01melse\u001b[39;00m:\n\u001b[1;32m--> 327\u001b[0m         \u001b[38;5;28;01mraise\u001b[39;00m _create_rpc_error(\n\u001b[0;32m    328\u001b[0m             \u001b[38;5;28mself\u001b[39m\u001b[38;5;241m.\u001b[39m_cython_call\u001b[38;5;241m.\u001b[39m_initial_metadata,\n\u001b[0;32m    329\u001b[0m             \u001b[38;5;28mself\u001b[39m\u001b[38;5;241m.\u001b[39m_cython_call\u001b[38;5;241m.\u001b[39m_status,\n\u001b[0;32m    330\u001b[0m         )\n\u001b[0;32m    331\u001b[0m \u001b[38;5;28;01melse\u001b[39;00m:\n",
      "\u001b[1;31mAioRpcError\u001b[0m: <AioRpcError of RPC that terminated with:\n\tstatus = StatusCode.UNKNOWN\n\tdetails = \"explorer: get class: vectorize params: vectorize params: vectorize params: vectorize keywords: remote client vectorize: API Key: no api key found neither in request header: X-Openai-Api-Key nor in environment variable under OPENAI_APIKEY\"\n\tdebug_error_string = \"UNKNOWN:Error received from peer  {created_time:\"2024-08-28T03:52:54.272634+00:00\", grpc_status:2, grpc_message:\"explorer: get class: vectorize params: vectorize params: vectorize params: vectorize keywords: remote client vectorize: API Key: no api key found neither in request header: X-Openai-Api-Key nor in environment variable under OPENAI_APIKEY\"}\"\n>",
      "\nDuring handling of the above exception, another exception occurred:\n",
      "\u001b[1;31mWeaviateQueryError\u001b[0m                        Traceback (most recent call last)",
      "Cell \u001b[1;32mIn[94], line 4\u001b[0m\n\u001b[0;32m      1\u001b[0m \u001b[38;5;66;03m#Check how many objects we've loaded into the database\u001b[39;00m\n\u001b[0;32m      3\u001b[0m questions \u001b[38;5;241m=\u001b[39m client\u001b[38;5;241m.\u001b[39mcollections\u001b[38;5;241m.\u001b[39mget(\u001b[38;5;124m\"\u001b[39m\u001b[38;5;124mQuestion\u001b[39m\u001b[38;5;124m\"\u001b[39m)\n\u001b[1;32m----> 4\u001b[0m response \u001b[38;5;241m=\u001b[39m \u001b[43mquestions\u001b[49m\u001b[38;5;241;43m.\u001b[39;49m\u001b[43mquery\u001b[49m\u001b[38;5;241;43m.\u001b[39;49m\u001b[43mnear_text\u001b[49m\u001b[43m(\u001b[49m\n\u001b[0;32m      5\u001b[0m \u001b[43m    \u001b[49m\u001b[43mquery\u001b[49m\u001b[38;5;241;43m=\u001b[39;49m\u001b[38;5;124;43m\"\u001b[39;49m\u001b[38;5;124;43manimal\u001b[39;49m\u001b[38;5;124;43m\"\u001b[39;49m\u001b[43m,\u001b[49m\n\u001b[0;32m      6\u001b[0m \u001b[43m    \u001b[49m\u001b[43mlimit\u001b[49m\u001b[38;5;241;43m=\u001b[39;49m\u001b[38;5;241;43m2\u001b[39;49m\n\u001b[0;32m      7\u001b[0m \u001b[43m)\u001b[49m\n\u001b[0;32m      9\u001b[0m \u001b[38;5;28;01mfor\u001b[39;00m o \u001b[38;5;129;01min\u001b[39;00m response\u001b[38;5;241m.\u001b[39mobjects:\n\u001b[0;32m     10\u001b[0m     \u001b[38;5;28mprint\u001b[39m(o\u001b[38;5;241m.\u001b[39mproperties)  \u001b[38;5;66;03m# Object properties\u001b[39;00m\n",
      "File \u001b[1;32mC:\\ProgramData\\miniconda3\\envs\\torch\\lib\\site-packages\\weaviate\\syncify.py:23\u001b[0m, in \u001b[0;36mconvert.<locals>.sync_method\u001b[1;34m(self, __new_name, *args, **kwargs)\u001b[0m\n\u001b[0;32m     20\u001b[0m \u001b[38;5;129m@wraps\u001b[39m(method)  \u001b[38;5;66;03m# type: ignore\u001b[39;00m\n\u001b[0;32m     21\u001b[0m \u001b[38;5;28;01mdef\u001b[39;00m \u001b[38;5;21msync_method\u001b[39m(\u001b[38;5;28mself\u001b[39m, \u001b[38;5;241m*\u001b[39margs, __new_name\u001b[38;5;241m=\u001b[39mnew_name, \u001b[38;5;241m*\u001b[39m\u001b[38;5;241m*\u001b[39mkwargs):\n\u001b[0;32m     22\u001b[0m     async_func \u001b[38;5;241m=\u001b[39m \u001b[38;5;28mgetattr\u001b[39m(\u001b[38;5;28mcls\u001b[39m, __new_name)\n\u001b[1;32m---> 23\u001b[0m     \u001b[38;5;28;01mreturn\u001b[39;00m _EventLoopSingleton\u001b[38;5;241m.\u001b[39mget_instance()\u001b[38;5;241m.\u001b[39mrun_until_complete(\n\u001b[0;32m     24\u001b[0m         async_func, \u001b[38;5;28mself\u001b[39m, \u001b[38;5;241m*\u001b[39margs, \u001b[38;5;241m*\u001b[39m\u001b[38;5;241m*\u001b[39mkwargs\n\u001b[0;32m     25\u001b[0m     )\n",
      "File \u001b[1;32mC:\\ProgramData\\miniconda3\\envs\\torch\\lib\\site-packages\\weaviate\\event_loop.py:40\u001b[0m, in \u001b[0;36m_EventLoop.run_until_complete\u001b[1;34m(self, f, *args, **kwargs)\u001b[0m\n\u001b[0;32m     38\u001b[0m     \u001b[38;5;28;01mraise\u001b[39;00m WeaviateClosedClientError()\n\u001b[0;32m     39\u001b[0m fut \u001b[38;5;241m=\u001b[39m asyncio\u001b[38;5;241m.\u001b[39mrun_coroutine_threadsafe(f(\u001b[38;5;241m*\u001b[39margs, \u001b[38;5;241m*\u001b[39m\u001b[38;5;241m*\u001b[39mkwargs), \u001b[38;5;28mself\u001b[39m\u001b[38;5;241m.\u001b[39mloop)\n\u001b[1;32m---> 40\u001b[0m \u001b[38;5;28;01mreturn\u001b[39;00m \u001b[43mfut\u001b[49m\u001b[38;5;241;43m.\u001b[39;49m\u001b[43mresult\u001b[49m\u001b[43m(\u001b[49m\u001b[43m)\u001b[49m\n",
      "File \u001b[1;32mC:\\ProgramData\\miniconda3\\envs\\torch\\lib\\concurrent\\futures\\_base.py:458\u001b[0m, in \u001b[0;36mFuture.result\u001b[1;34m(self, timeout)\u001b[0m\n\u001b[0;32m    456\u001b[0m     \u001b[38;5;28;01mraise\u001b[39;00m CancelledError()\n\u001b[0;32m    457\u001b[0m \u001b[38;5;28;01melif\u001b[39;00m \u001b[38;5;28mself\u001b[39m\u001b[38;5;241m.\u001b[39m_state \u001b[38;5;241m==\u001b[39m FINISHED:\n\u001b[1;32m--> 458\u001b[0m     \u001b[38;5;28;01mreturn\u001b[39;00m \u001b[38;5;28;43mself\u001b[39;49m\u001b[38;5;241;43m.\u001b[39;49m\u001b[43m__get_result\u001b[49m\u001b[43m(\u001b[49m\u001b[43m)\u001b[49m\n\u001b[0;32m    459\u001b[0m \u001b[38;5;28;01melse\u001b[39;00m:\n\u001b[0;32m    460\u001b[0m     \u001b[38;5;28;01mraise\u001b[39;00m \u001b[38;5;167;01mTimeoutError\u001b[39;00m()\n",
      "File \u001b[1;32mC:\\ProgramData\\miniconda3\\envs\\torch\\lib\\concurrent\\futures\\_base.py:403\u001b[0m, in \u001b[0;36mFuture.__get_result\u001b[1;34m(self)\u001b[0m\n\u001b[0;32m    401\u001b[0m \u001b[38;5;28;01mif\u001b[39;00m \u001b[38;5;28mself\u001b[39m\u001b[38;5;241m.\u001b[39m_exception:\n\u001b[0;32m    402\u001b[0m     \u001b[38;5;28;01mtry\u001b[39;00m:\n\u001b[1;32m--> 403\u001b[0m         \u001b[38;5;28;01mraise\u001b[39;00m \u001b[38;5;28mself\u001b[39m\u001b[38;5;241m.\u001b[39m_exception\n\u001b[0;32m    404\u001b[0m     \u001b[38;5;28;01mfinally\u001b[39;00m:\n\u001b[0;32m    405\u001b[0m         \u001b[38;5;66;03m# Break a reference cycle with the exception in self._exception\u001b[39;00m\n\u001b[0;32m    406\u001b[0m         \u001b[38;5;28mself\u001b[39m \u001b[38;5;241m=\u001b[39m \u001b[38;5;28;01mNone\u001b[39;00m\n",
      "File \u001b[1;32mC:\\ProgramData\\miniconda3\\envs\\torch\\lib\\site-packages\\weaviate\\collections\\queries\\near_text\\query.py:97\u001b[0m, in \u001b[0;36m_NearTextQueryAsync.near_text\u001b[1;34m(self, query, certainty, distance, move_to, move_away, limit, offset, auto_limit, filters, group_by, rerank, target_vector, include_vector, return_metadata, return_properties, return_references)\u001b[0m\n\u001b[0;32m     27\u001b[0m \u001b[38;5;28;01masync\u001b[39;00m \u001b[38;5;28;01mdef\u001b[39;00m \u001b[38;5;21mnear_text\u001b[39m(\n\u001b[0;32m     28\u001b[0m     \u001b[38;5;28mself\u001b[39m,\n\u001b[0;32m     29\u001b[0m     query: Union[List[\u001b[38;5;28mstr\u001b[39m], \u001b[38;5;28mstr\u001b[39m],\n\u001b[1;32m   (...)\u001b[0m\n\u001b[0;32m     45\u001b[0m     return_references: Optional[ReturnReferences[TReferences]] \u001b[38;5;241m=\u001b[39m \u001b[38;5;28;01mNone\u001b[39;00m,\n\u001b[0;32m     46\u001b[0m ) \u001b[38;5;241m-\u001b[39m\u001b[38;5;241m>\u001b[39m QuerySearchReturnType[Properties, References, TProperties, TReferences]:\n\u001b[0;32m     47\u001b[0m \u001b[38;5;250m    \u001b[39m\u001b[38;5;124;03m\"\"\"Search for objects in this collection by text using text-capable vectorization module and vector-based similarity search.\u001b[39;00m\n\u001b[0;32m     48\u001b[0m \n\u001b[0;32m     49\u001b[0m \u001b[38;5;124;03m    See the [docs](https://weaviate.io/developers/weaviate/api/graphql/search-operators#neartext) for a more detailed explanation.\u001b[39;00m\n\u001b[1;32m   (...)\u001b[0m\n\u001b[0;32m     95\u001b[0m \u001b[38;5;124;03m            If the request to the Weaviate server fails.\u001b[39;00m\n\u001b[0;32m     96\u001b[0m \u001b[38;5;124;03m    \"\"\"\u001b[39;00m\n\u001b[1;32m---> 97\u001b[0m     res \u001b[38;5;241m=\u001b[39m \u001b[38;5;28;01mawait\u001b[39;00m \u001b[38;5;28mself\u001b[39m\u001b[38;5;241m.\u001b[39m_query\u001b[38;5;241m.\u001b[39mnear_text(\n\u001b[0;32m     98\u001b[0m         near_text\u001b[38;5;241m=\u001b[39mquery,\n\u001b[0;32m     99\u001b[0m         certainty\u001b[38;5;241m=\u001b[39mcertainty,\n\u001b[0;32m    100\u001b[0m         distance\u001b[38;5;241m=\u001b[39mdistance,\n\u001b[0;32m    101\u001b[0m         move_to\u001b[38;5;241m=\u001b[39mmove_to,\n\u001b[0;32m    102\u001b[0m         move_away\u001b[38;5;241m=\u001b[39mmove_away,\n\u001b[0;32m    103\u001b[0m         limit\u001b[38;5;241m=\u001b[39mlimit,\n\u001b[0;32m    104\u001b[0m         offset\u001b[38;5;241m=\u001b[39moffset,\n\u001b[0;32m    105\u001b[0m         autocut\u001b[38;5;241m=\u001b[39mauto_limit,\n\u001b[0;32m    106\u001b[0m         filters\u001b[38;5;241m=\u001b[39mfilters,\n\u001b[0;32m    107\u001b[0m         target_vector\u001b[38;5;241m=\u001b[39mtarget_vector,\n\u001b[0;32m    108\u001b[0m         group_by\u001b[38;5;241m=\u001b[39m_GroupBy\u001b[38;5;241m.\u001b[39mfrom_input(group_by),\n\u001b[0;32m    109\u001b[0m         rerank\u001b[38;5;241m=\u001b[39mrerank,\n\u001b[0;32m    110\u001b[0m         return_metadata\u001b[38;5;241m=\u001b[39m\u001b[38;5;28mself\u001b[39m\u001b[38;5;241m.\u001b[39m_parse_return_metadata(return_metadata, include_vector),\n\u001b[0;32m    111\u001b[0m         return_properties\u001b[38;5;241m=\u001b[39m\u001b[38;5;28mself\u001b[39m\u001b[38;5;241m.\u001b[39m_parse_return_properties(return_properties),\n\u001b[0;32m    112\u001b[0m         return_references\u001b[38;5;241m=\u001b[39m\u001b[38;5;28mself\u001b[39m\u001b[38;5;241m.\u001b[39m_parse_return_references(return_references),\n\u001b[0;32m    113\u001b[0m     )\n\u001b[0;32m    114\u001b[0m     \u001b[38;5;28;01mreturn\u001b[39;00m \u001b[38;5;28mself\u001b[39m\u001b[38;5;241m.\u001b[39m_result_to_query_or_groupby_return(\n\u001b[0;32m    115\u001b[0m         res,\n\u001b[0;32m    116\u001b[0m         _QueryOptions\u001b[38;5;241m.\u001b[39mfrom_input(\n\u001b[1;32m   (...)\u001b[0m\n\u001b[0;32m    126\u001b[0m         return_references,\n\u001b[0;32m    127\u001b[0m     )\n",
      "File \u001b[1;32mC:\\ProgramData\\miniconda3\\envs\\torch\\lib\\site-packages\\weaviate\\collections\\grpc\\query.py:769\u001b[0m, in \u001b[0;36m_QueryGRPC.__call\u001b[1;34m(self, request)\u001b[0m\n\u001b[0;32m    767\u001b[0m     \u001b[38;5;28;01mreturn\u001b[39;00m cast(search_get_pb2\u001b[38;5;241m.\u001b[39mSearchReply, res)\n\u001b[0;32m    768\u001b[0m \u001b[38;5;28;01mexcept\u001b[39;00m AioRpcError \u001b[38;5;28;01mas\u001b[39;00m e:\n\u001b[1;32m--> 769\u001b[0m     \u001b[38;5;28;01mraise\u001b[39;00m WeaviateQueryError(\u001b[38;5;28mstr\u001b[39m(e), \u001b[38;5;124m\"\u001b[39m\u001b[38;5;124mGRPC search\u001b[39m\u001b[38;5;124m\"\u001b[39m)\n",
      "\u001b[1;31mWeaviateQueryError\u001b[0m: Query call with protocol GRPC search failed with message <AioRpcError of RPC that terminated with:\n\tstatus = StatusCode.UNKNOWN\n\tdetails = \"explorer: get class: vectorize params: vectorize params: vectorize params: vectorize keywords: remote client vectorize: API Key: no api key found neither in request header: X-Openai-Api-Key nor in environment variable under OPENAI_APIKEY\"\n\tdebug_error_string = \"UNKNOWN:Error received from peer  {created_time:\"2024-08-28T03:52:54.272634+00:00\", grpc_status:2, grpc_message:\"explorer: get class: vectorize params: vectorize params: vectorize params: vectorize keywords: remote client vectorize: API Key: no api key found neither in request header: X-Openai-Api-Key nor in environment variable under OPENAI_APIKEY\"}\"\n>."
     ]
    }
   ],
   "source": [
    "\n",
    "#Check how many objects we've loaded into the database\n",
    "\n",
    "questions = client.collections.get(\"Question\")\n",
    "response = questions.query.near_text(\n",
    "    query=\"animal\",\n",
    "    limit=2\n",
    ")\n",
    "\n",
    "for o in response.objects:\n",
    "    print(o.properties)  # Object properties"
   ]
  },
  {
   "cell_type": "code",
   "execution_count": 95,
   "id": "99f242e9-d840-459c-8826-6122a3c387a5",
   "metadata": {},
   "outputs": [
    {
     "ename": "AttributeError",
     "evalue": "'WeaviateClient' object has no attribute 'query'",
     "output_type": "error",
     "traceback": [
      "\u001b[1;31m---------------------------------------------------------------------------\u001b[0m",
      "\u001b[1;31mAttributeError\u001b[0m                            Traceback (most recent call last)",
      "Cell \u001b[1;32mIn[95], line 3\u001b[0m\n\u001b[0;32m      1\u001b[0m \u001b[38;5;66;03m#Extract and show any 3 questions and answers\u001b[39;00m\n\u001b[1;32m----> 3\u001b[0m json_print(\u001b[43mclient\u001b[49m\u001b[38;5;241;43m.\u001b[39;49m\u001b[43mquery\u001b[49m\u001b[38;5;241m.\u001b[39mget(\u001b[38;5;124m\"\u001b[39m\u001b[38;5;124mQuestion\u001b[39m\u001b[38;5;124m\"\u001b[39m, [\u001b[38;5;124m\"\u001b[39m\u001b[38;5;124mquestion\u001b[39m\u001b[38;5;124m\"\u001b[39m,\u001b[38;5;124m\"\u001b[39m\u001b[38;5;124manswer\u001b[39m\u001b[38;5;124m\"\u001b[39m])\u001b[38;5;241m.\u001b[39mwith_limit(\u001b[38;5;241m3\u001b[39m)\u001b[38;5;241m.\u001b[39mdo())\n",
      "\u001b[1;31mAttributeError\u001b[0m: 'WeaviateClient' object has no attribute 'query'"
     ]
    }
   ],
   "source": [
    "\n",
    "#Extract and show any 3 questions and answers\n",
    "\n",
    "json_print(client.collections.get(\"Question\", [\"question\",\"answer\"]).with_limit(3).do())"
   ]
  },
  {
   "cell_type": "code",
   "execution_count": 96,
   "id": "9ead6d7e-72b7-470e-bf80-61ddc2919307",
   "metadata": {},
   "outputs": [
    {
     "name": "stdout",
     "output_type": "stream",
     "text": [
      "[\n",
      "    {\n",
      "        \"Category\": \"SCIENCE\",\n",
      "        \"Question\": \"This organ removes excess glucose from the blood & stores it as glycogen\",\n",
      "        \"Answer\": \"Liver\"\n",
      "    },\n",
      "    {\n",
      "        \"Category\": \"ANIMALS\",\n",
      "        \"Question\": \"It's the only living mammal in the order Proboseidea\",\n",
      "        \"Answer\": \"Elephant\"\n",
      "    },\n",
      "    {\n",
      "        \"Category\": \"ANIMALS\",\n",
      "        \"Question\": \"The gavial looks very much like a crocodile except for this bodily feature\",\n",
      "        \"Answer\": \"the nose or snout\"\n",
      "    },\n",
      "    {\n",
      "        \"Category\": \"ANIMALS\",\n",
      "        \"Question\": \"Weighing around a ton, the eland is the largest species of this animal in Africa\",\n",
      "        \"Answer\": \"Antelope\"\n",
      "    },\n",
      "    {\n",
      "        \"Category\": \"ANIMALS\",\n",
      "        \"Question\": \"Heaviest of all poisonous snakes is this North American rattlesnake\",\n",
      "        \"Answer\": \"the diamondback rattler\"\n",
      "    },\n",
      "    {\n",
      "        \"Category\": \"SCIENCE\",\n",
      "        \"Question\": \"2000 news: the Gunnison sage grouse isn't just another northern sage grouse, but a new one of this classification\",\n",
      "        \"Answer\": \"species\"\n",
      "    },\n",
      "    {\n",
      "        \"Category\": \"SCIENCE\",\n",
      "        \"Question\": \"A metal that is ductile can be pulled into this while cold & under pressure\",\n",
      "        \"Answer\": \"wire\"\n",
      "    },\n",
      "    {\n",
      "        \"Category\": \"SCIENCE\",\n",
      "        \"Question\": \"In 1953 Watson & Crick built a model of the molecular structure of this, the gene-carrying substance\",\n",
      "        \"Answer\": \"DNA\"\n",
      "    },\n",
      "    {\n",
      "        \"Category\": \"SCIENCE\",\n",
      "        \"Question\": \"Changes in the tropospheric layer of this are what gives us weather\",\n",
      "        \"Answer\": \"the atmosphere\"\n",
      "    },\n",
      "    {\n",
      "        \"Category\": \"SCIENCE\",\n",
      "        \"Question\": \"In 70-degree air, a plane traveling at about 1,130 feet per second breaks it\",\n",
      "        \"Answer\": \"Sound barrier\"\n",
      "    }\n",
      "]\n"
     ]
    }
   ],
   "source": [
    "json_print(data)"
   ]
  },
  {
   "cell_type": "code",
   "execution_count": null,
   "id": "6e97b651-658b-4cfe-b76e-3ac4c2722209",
   "metadata": {},
   "outputs": [],
   "source": []
  }
 ],
 "metadata": {
  "kernelspec": {
   "display_name": "Python 3 (ipykernel)",
   "language": "python",
   "name": "python3"
  },
  "language_info": {
   "codemirror_mode": {
    "name": "ipython",
    "version": 3
   },
   "file_extension": ".py",
   "mimetype": "text/x-python",
   "name": "python",
   "nbconvert_exporter": "python",
   "pygments_lexer": "ipython3",
   "version": "3.10.13"
  }
 },
 "nbformat": 4,
 "nbformat_minor": 5
}
