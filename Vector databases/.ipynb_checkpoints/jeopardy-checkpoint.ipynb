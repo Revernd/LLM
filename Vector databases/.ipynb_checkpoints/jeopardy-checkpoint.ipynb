{
 "cells": [
  {
   "cell_type": "markdown",
   "id": "b75bdcc7",
   "metadata": {},
   "source": [
    "1. Load up the 1K jeopardy dataset that has 1000 objects in total, keep at least the question, answer and round properties.\n",
    "2. How do you check for the number of objects stored in the database?\n",
    "3. Search for objects that are close to the concept of “spicy food recipes” and show 4 QnA\n",
    "4. Can you find “spicy food recipes” related questions that were used in Double Jeopardy rounds?\n",
    "\n",
    "\n",
    "### Q1: Load up the dataset,  keep at least the question, answer and round properties."
   ]
  },
  {
   "cell_type": "code",
   "execution_count": null,
   "id": "07a62d15",
   "metadata": {},
   "outputs": [],
   "source": [
    "import requests\n",
    "import json\n",
    "\n",
    "# Download the data\n",
    "resp = requests.get('https://raw.githubusercontent.com/weaviate-tutorials/intro-workshop/main/data/jeopardy_1k.json')\n",
    "data = json.loads(resp.text)  # Load data\n",
    "\n",
    "# Parse the JSON and preview it\n",
    "print(type(data), len(data))\n",
    "print(json.dumps(data[1], indent=2))"
   ]
  },
  {
   "cell_type": "code",
   "execution_count": null,
   "id": "1a611f7e",
   "metadata": {},
   "outputs": [],
   "source": [
    "import weaviate\n",
    "from weaviate import EmbeddedOptions\n",
    "import os\n",
    "\n",
    "client = weaviate.Client(\n",
    "    embedded_options=EmbeddedOptions(),\n",
    "    additional_headers={\n",
    "        \"X-OpenAI-Api-Key\": os.environ[\"OPENAI_API_KEY\"]  # Replace this with your actual key\n",
    "    }\n",
    ")"
   ]
  },
  {
   "cell_type": "code",
   "execution_count": null,
   "id": "cf7636d7",
   "metadata": {},
   "outputs": [],
   "source": [
    "if client.schema.exists(\"Question\"):\n",
    "    client.schema.delete_class(\"Question\")"
   ]
  },
  {
   "cell_type": "code",
   "execution_count": null,
   "id": "7d8bc098",
   "metadata": {},
   "outputs": [],
   "source": [
    "#Define the class that will be used to add the data\n",
    "# We need to have properties for the questions, answer and round\n",
    "\n",
    "class_definition = # ADD CODE HERE\n",
    "\n",
    "client.schema.create_class(class_definition)"
   ]
  },
  {
   "cell_type": "code",
   "execution_count": null,
   "id": "d0a2d2fc",
   "metadata": {},
   "outputs": [],
   "source": [
    "#Insert the data into Weaviate\n",
    "\n",
    "\n",
    "with client.batch() as batch:\n",
    "    for o in data:\n",
    "        # ADD CODE HERE"
   ]
  },
  {
   "cell_type": "markdown",
   "id": "1a5280a9",
   "metadata": {},
   "source": [
    "### Q2. How do you check for the number of objects stored in the database?"
   ]
  },
  {
   "cell_type": "code",
   "execution_count": null,
   "id": "57f315e5",
   "metadata": {},
   "outputs": [],
   "source": [
    "# ADD CODE HERE"
   ]
  },
  {
   "cell_type": "markdown",
   "id": "5c0943f5",
   "metadata": {},
   "source": [
    "### 3. Search for objects that are close to the concept of \"spicy food recipes\" and show 4 QnA"
   ]
  },
  {
   "cell_type": "code",
   "execution_count": null,
   "id": "d8899328",
   "metadata": {},
   "outputs": [],
   "source": [
    "response = # ADD CODE HERE\n",
    "\n",
    "print(json.dumps(response, indent=2))"
   ]
  },
  {
   "cell_type": "markdown",
   "id": "ec604d4b",
   "metadata": {},
   "source": [
    "### 4. Can you find \"spicy food recipes\" related questions that were used in Double Jeopardy rounds?"
   ]
  },
  {
   "cell_type": "code",
   "execution_count": null,
   "id": "279936bb",
   "metadata": {},
   "outputs": [],
   "source": [
    "response = # ADD CODE HERE\n",
    "\n",
    "print(json.dumps(response, indent=2))"
   ]
  }
 ],
 "metadata": {
  "kernelspec": {
   "display_name": "Python 3 (ipykernel)",
   "language": "python",
   "name": "python3"
  },
  "language_info": {
   "codemirror_mode": {
    "name": "ipython",
    "version": 3
   },
   "file_extension": ".py",
   "mimetype": "text/x-python",
   "name": "python",
   "nbconvert_exporter": "python",
   "pygments_lexer": "ipython3",
   "version": "3.11.4"
  }
 },
 "nbformat": 4,
 "nbformat_minor": 5
}
